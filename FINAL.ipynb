{
  "nbformat": 4,
  "nbformat_minor": 0,
  "metadata": {
    "colab": {
      "provenance": []
    },
    "kernelspec": {
      "name": "python3",
      "display_name": "Python 3"
    },
    "language_info": {
      "name": "python"
    }
  },
  "cells": [
    {
      "cell_type": "code",
      "source": [
        "import cv2\n",
        "import numpy as np\n",
        "\n",
        "def uerd_encode(cover_image, secret_data):\n",
        "    \"\"\"Encodes secret data into a cover image using the UERD steganography algorithm.\"\"\"\n",
        "    secret_data_len = len(secret_data) * 8\n",
        "    cover_image_width, cover_image_height, _ = cover_image.shape\n",
        "    stego_image = np.zeros((cover_image_width, cover_image_height, 3), dtype=np.uint8)\n",
        "\n",
        "    for i in range(secret_data_len):\n",
        "        pixel_index, bit_position = divmod(i, 3)\n",
        "\n",
        "        # Convert pixel to float32 before applying DCT\n",
        "        pixel_float32 = cover_image[pixel_index].astype(np.float32)\n",
        "        dct_coefficients = cv2.dct(pixel_float32)\n",
        "\n",
        "        threshold = np.mean(dct_coefficients)\n",
        "        if secret_data[i // 8] == '1':\n",
        "            dct_coefficients[0, bit_position] += 1  # Only modify the specified DCT coefficient\n",
        "        else:\n",
        "            dct_coefficients[0, bit_position] -= 1  # Only modify the specified DCT coefficient\n",
        "\n",
        "        # Convert back to float32 after applying IDCT\n",
        "        stego_image[pixel_index] = cv2.idct(dct_coefficients).astype(np.uint8)\n",
        "\n",
        "    return stego_image\n",
        "\n",
        "def uerd_decode(stego_image):\n",
        "    \"\"\"Decodes secret data from a stego image using the UERD steganography algorithm.\"\"\"\n",
        "    secret_data = \"\"\n",
        "    secret_data_len = len(stego_image) * 3 * 8\n",
        "    num_pixels = len(stego_image)\n",
        "\n",
        "    for i in range(secret_data_len):\n",
        "        pixel_index, bit_position = divmod(i, 3)\n",
        "\n",
        "        # Ensure pixel_index is within the valid range\n",
        "        if pixel_index >= num_pixels:\n",
        "            break\n",
        "        # Convert pixel to float32 before applying DCT\n",
        "        pixel_float32 = stego_image[pixel_index].astype(np.float32)\n",
        "        dct_coefficients = cv2.dct(pixel_float32)\n",
        "\n",
        "        threshold = np.mean(dct_coefficients)\n",
        "        secret_data += str(int(dct_coefficients[0, bit_position] > threshold))\n",
        "\n",
        "    return secret_data\n",
        "\n",
        "def representation_data(data):\n",
        "    # Check for non-printable characters and their positions\n",
        "    non_printable_positions = [(i, ord(char)) for i, char in enumerate(data) if not char.isprintable()]\n",
        "\n",
        "    if non_printable_positions:\n",
        "        print(\"Non-printable characters found at positions:\")\n",
        "        for position, char_code in non_printable_positions:\n",
        "            print(f\"Position: {position}, Character Code: {char_code}\")\n",
        "\n",
        "    # Check the length of the data\n",
        "    print(f\"Data Length: {len(data)}\")\n",
        "\n",
        "    # Print the data as both ASCII and binary\n",
        "    print(\"ASCII Representation:\")\n",
        "    for char in data:\n",
        "        print(f\"{char} ({ord(char)})\")\n",
        "\n",
        "    print(\"Binary Representation:\")\n",
        "    binary_data = ' '.join(format(ord(char), '08b') for char in data)\n",
        "    print(binary_data)\n",
        "\n",
        "# Example data (replace this with your actual data)\n",
        "data = \"LOGANATHAVISHNUBALAJI\"\n",
        "\n",
        "# Encode the data\n",
        "cover_image = cv2.imread(\"/content/Picture1.png\")  # Replace with the path to your cover image\n",
        "stego_image = uerd_encode(cover_image, data)\n",
        "\n",
        "# Save the stego image\n",
        "cv2.imwrite(\"stego_image.png\", stego_image)\n",
        "\n",
        "# Decode the data from the stego image\n",
        "decoded_data = uerd_decode(stego_image)\n",
        "\n",
        "# Debug the decoded data\n",
        "representation_data(data)"
      ],
      "metadata": {
        "colab": {
          "base_uri": "https://localhost:8080/"
        },
        "id": "-QaKBFriHsRS",
        "outputId": "b95c424d-f724-4a84-ed1c-bfc6db8b12b4"
      },
      "execution_count": null,
      "outputs": [
        {
          "output_type": "stream",
          "name": "stdout",
          "text": [
            "Data Length: 21\n",
            "ASCII Representation:\n",
            "L (76)\n",
            "O (79)\n",
            "G (71)\n",
            "A (65)\n",
            "N (78)\n",
            "A (65)\n",
            "T (84)\n",
            "H (72)\n",
            "A (65)\n",
            "V (86)\n",
            "I (73)\n",
            "S (83)\n",
            "H (72)\n",
            "N (78)\n",
            "U (85)\n",
            "B (66)\n",
            "A (65)\n",
            "L (76)\n",
            "A (65)\n",
            "J (74)\n",
            "I (73)\n",
            "Binary Representation:\n",
            "01001100 01001111 01000111 01000001 01001110 01000001 01010100 01001000 01000001 01010110 01001001 01010011 01001000 01001110 01010101 01000010 01000001 01001100 01000001 01001010 01001001\n"
          ]
        }
      ]
    },
    {
      "cell_type": "markdown",
      "source": [
        "NSF5"
      ],
      "metadata": {
        "id": "cnI0xUxQH7yH"
      }
    },
    {
      "cell_type": "code",
      "source": [
        "import numpy as np\n",
        "from scipy.fftpack import dct\n",
        "\n",
        "# Import OpenCV.\n",
        "import cv2\n",
        "def nsf5_steganalysis(image):\n",
        "  # Compute the DCT coefficients of the image.\n",
        "  dct_coeffs = dct(image)\n",
        "  # Compute the mean and standard deviation of the DCT coefficients.\n",
        "  mean = np.mean(dct_coeffs)\n",
        "  std = np.std(dct_coeffs)\n",
        "  # Compute the nsF5 steganalysis score.\n",
        "  score = (mean - 128) / std\n",
        "  return score\n",
        "images = []\n",
        "for i in range(5):\n",
        "  image = cv2.imread('/content/stego_image.png')\n",
        "  images.append(image)\n",
        "# Perform nsF5 steganalysis on each image.\n",
        "steganalysis_scores = []\n",
        "for image in images:\n",
        "  score = nsf5_steganalysis(image)\n",
        "  steganalysis_scores.append(score)\n",
        "# Print the steganalysis scores for all 5 images.\n",
        "print(\"Steganalysis scores:\")\n",
        "for i in range(5):\n",
        "  print(f\"Image {i}: {steganalysis_scores[i]}\")"
      ],
      "metadata": {
        "colab": {
          "base_uri": "https://localhost:8080/"
        },
        "id": "6z2VL0QEH9mJ",
        "outputId": "e0a8ad91-76af-4bb2-ea6e-7dc6c810c729"
      },
      "execution_count": null,
      "outputs": [
        {
          "output_type": "stream",
          "name": "stdout",
          "text": [
            "Requirement already satisfied: opencv-python in /usr/local/lib/python3.10/dist-packages (4.8.0.76)\n",
            "Requirement already satisfied: numpy>=1.21.2 in /usr/local/lib/python3.10/dist-packages (from opencv-python) (1.23.5)\n",
            "Steganalysis scores:\n",
            "Image 0: -0.7463971391684505\n",
            "Image 1: -0.7463971391684505\n",
            "Image 2: -0.7463971391684505\n",
            "Image 3: -0.7463971391684505\n",
            "Image 4: -0.7463971391684505\n"
          ]
        }
      ]
    },
    {
      "cell_type": "markdown",
      "source": [
        "SRM\n"
      ],
      "metadata": {
        "id": "6jKaEg-nIJZY"
      }
    },
    {
      "cell_type": "code",
      "source": [
        "def srm_steganalysis(image):\n",
        "\n",
        "    # Convert the image to grayscale if it's not already.\n",
        "    if len(image.shape) == 3:\n",
        "        image = cv2.cvtColor(image, cv2.COLOR_BGR2GRAY)\n",
        "\n",
        "    # Compute the spatial statistics using the SRM algorithm.\n",
        "    srm_result = srm_features(image)\n",
        "\n",
        "    # Calculate a steganalysis score based on the SRM features.\n",
        "    score = calculate_srm_score(srm_result)\n",
        "\n",
        "    return score\n"
      ],
      "metadata": {
        "id": "JkNDaMu3InBt"
      },
      "execution_count": null,
      "outputs": []
    },
    {
      "cell_type": "code",
      "source": [
        "import numpy as np\n",
        "\n",
        "def srm_features(image):\n",
        "    # This is a simplified example. You may want to implement a more sophisticated SRM feature extraction.\n",
        "    height, width = image.shape\n",
        "    features = np.zeros((height, width, 5))  # You can adjust the number of features as needed.\n",
        "\n",
        "    for i in range(height):\n",
        "        for j in range(width):\n",
        "            # Compute some simple spatial features (e.g., local mean, variance, etc.).\n",
        "            local_mean = np.mean(image[i:i+3, j:j+3])\n",
        "            local_variance = np.var(image[i:i+3, j:j+3])\n",
        "            # Store these features in the result.\n",
        "            features[i, j, 0] = local_mean\n",
        "            features[i, j, 1] = local_variance\n",
        "\n",
        "    return features\n",
        "\n",
        "def calculate_srm_score(srm_result):\n",
        "    # Calculate the steganalysis score based on the extracted SRM features.\n",
        "    # This is a simplified example and can be improved for better results.\n",
        "    return np.mean(srm_result)\n",
        "\n",
        "# Load the image from Google Drive.\n",
        "image = cv2.imread('/content/stego_image.png')\n",
        "\n",
        "# Perform SRM steganalysis on the image.\n",
        "srm_result = srm_steganalysis(image)\n",
        "\n",
        "# Calculate the steganalysis score based on SRM features.\n",
        "score = calculate_srm_score(srm_result)\n",
        "\n",
        "# Print the steganalysis score.\n",
        "print(\"Steganalysis score:\",score)"
      ],
      "metadata": {
        "colab": {
          "base_uri": "https://localhost:8080/"
        },
        "id": "XOH8SP7_IJE2",
        "outputId": "8f97ecb0-9dea-409a-c065-ec18f5d7b611"
      },
      "execution_count": null,
      "outputs": [
        {
          "output_type": "stream",
          "name": "stdout",
          "text": [
            "Steganalysis score: 4.965083387631459\n"
          ]
        }
      ]
    },
    {
      "cell_type": "markdown",
      "source": [
        "HDPP"
      ],
      "metadata": {
        "id": "APyoMzVsQ_2x"
      }
    },
    {
      "cell_type": "code",
      "source": [
        "import numpy as np\n",
        "import cv2\n",
        "from sklearn.model_selection import train_test_split\n",
        "from sklearn.metrics import accuracy_score\n",
        "\n",
        "def hppd_steganalysis(image):\n",
        "    # Implement the HPPD steganalysis algorithm.\n",
        "    # This should include feature extraction and scoring.\n",
        "    # Replace this with your actual implementation.\n",
        "\n",
        "    # For illustration, let's assume a random score between 0 and 1.\n",
        "    return np.random.random()\n",
        "\n",
        "def load_labeled_dataset():\n",
        "    # Load your labeled dataset, including image paths and corresponding labels (1 for steganographic, 0 for non-steganographic).\n",
        "    # You should replace this with your own dataset loading code.\n",
        "\n",
        "    # Example dataset:\n",
        "    image_paths = [\"steg_image1.png\", \"steg_image2.png\", \"non_steg_image1.png\", \"non_steg_image2.png\"]\n",
        "    labels = [1, 1, 0, 0]\n",
        "\n",
        "    return image_paths, labels\n",
        "\n",
        "def calculate_accuracy(predictions, labels):\n",
        "    # Calculate accuracy based on predictions and ground truth labels.\n",
        "    return accuracy_score(labels, [1 if p > 0.5 else 0 for p in predictions])\n",
        "\n",
        "# Load the labeled dataset.\n",
        "image_paths, labels = load_labeled_dataset()\n",
        "\n",
        "# Initialize lists to store steganalysis scores and ground truth labels.\n",
        "scores = []\n",
        "ground_truth = []\n",
        "\n",
        "# Perform HPPD steganalysis on each image and collect the scores and labels.\n",
        "for image_path, label in zip(image_paths, labels):\n",
        "    image = cv2.imread(image_path)\n",
        "    score = hppd_steganalysis(image)\n",
        "    scores.append(score)\n",
        "    ground_truth.append(label)\n",
        "\n",
        "# Calculate accuracy.\n",
        "accuracy = calculate_accuracy(scores, ground_truth) * 100\n",
        "# Print the steganalysis accuracy.\n",
        "print(\"Steganalysis Accuracy:\", accuracy)\n"
      ],
      "metadata": {
        "colab": {
          "base_uri": "https://localhost:8080/"
        },
        "id": "siDdNvjCJJ87",
        "outputId": "5af7e38d-75cc-4f89-cd9b-4117c0be3a99"
      },
      "execution_count": null,
      "outputs": [
        {
          "output_type": "stream",
          "name": "stdout",
          "text": [
            "Steganalysis Accuracy: 75.0\n"
          ]
        }
      ]
    }
  ]
}